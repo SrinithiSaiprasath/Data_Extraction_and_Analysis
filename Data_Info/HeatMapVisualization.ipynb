{
 "cells": [
  {
   "cell_type": "code",
   "execution_count": null,
   "metadata": {},
   "outputs": [],
   "source": [
    "import xarray as xr\n",
    "import matplotlib.pyplot as plt\n",
    "import mplcursors\n",
    "from datetime import datetime\n",
    "\n",
    "dataset = xr.open_dataset(\"C:/Users/customer/Downloads/adaptor.mars.internal-1686634317.6059375-22265-12-cadc50c5-a662-48f1-b391-6e241067044a.nc\")\n",
    "\n",
    "latitude = dataset['latitude'].values\n",
    "longitude = dataset['longitude'].values\n",
    "temperature_data = dataset['t'].isel(time=0, level=0).values  # Assuming level=0 for simplicity\n",
    "time_info = dataset['time'].values\n",
    "\n",
    "date = datetime.utcfromtimestamp(time_info.astype(int)[0] * 1e-9).strftime('%Y-%m-%D')\n",
    "time = datetime.utcfromtimestamp(time_info.astype(int)[1] * 1e-9).strftime(\"%H-%M-%S\")\n",
    "\n",
    "level = 500 #millibars \n",
    "location = 'Chennai'  # Replace with the actual location\n",
    "fig, ax = plt.subplots()\n",
    "contour = ax.contourf(longitude, latitude, temperature_data, cmap='viridis')\n",
    "plt.colorbar(contour, label='Temperature (K)')  # Replace 'units' with the actual units of your temperature data\n",
    "\n",
    "ax.set_title(f'Temperature Distribution\\nDate: {date}, Time : {time} level : 500mb ')\n",
    "ax.set_xlabel('Longitude (E)')\n",
    "ax.set_ylabel('Latitude(N)')\n",
    "\n",
    "cursor = mplcursors.cursor(hover=True)\n",
    "cursor.connect(\"add\")\n",
    "\n",
    "def on_add(sel):\n",
    "    lat_index = int(sel.target[1])\n",
    "    lon_index = int(sel.target[0])\n",
    "    temperature = temperature_data[lat_index, lon_index]\n",
    "    pressure = dataset['pressure'].isel(time=0, level=0).values  # Replace 'pressure' with the actual variable name\n",
    "    label = f'Time: {date}, Pressure: {pressure}, Temperature: {temperature}'\n",
    "    sel.annotation.set_text(label)\n",
    "plt.show()\n"
   ]
  }
 ],
 "metadata": {
  "kernelspec": {
   "display_name": "Python 3",
   "language": "python",
   "name": "python3"
  },
  "language_info": {
   "name": "python",
   "version": "3.11.1"
  }
 },
 "nbformat": 4,
 "nbformat_minor": 2
}
