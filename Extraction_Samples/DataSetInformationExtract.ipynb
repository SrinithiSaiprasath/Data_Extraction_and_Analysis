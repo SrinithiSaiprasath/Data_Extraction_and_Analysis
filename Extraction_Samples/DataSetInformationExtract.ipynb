{
 "cells": [
  {
   "cell_type": "code",
   "execution_count": null,
   "metadata": {},
   "outputs": [],
   "source": [
    "from netCDF4 import Dataset\n",
    "import pandas as pd\n",
    "\n",
    "file_path = "cannot be mentioned in this platform (confidential)",
    "with Dataset(file_path, \"r\") as nc_file:\n",
    "    for var_name, var in nc_file.variables.items():\n",
    "        print(f\"Variable label: {var_name}\")\n",
    "        print(f\"Shape: {var.shape}\")\n",
    "        print(\"Attributes\")\n",
    "        for i in var.__dict__.keys():\n",
    "            print(\"\\t\",i ,\":\", var.__dict__[i])\n",
    "        print()\n",
    "    time_var = nc_file.variables['time']\n",
    "\n",
    "    time_values = time_var[:]\n",
    "    time_index = pd.to_datetime(time_values, unit='h', origin=pd.Timestamp('1800-01-01'))\n",
    "    unique_year_month = time_index.strftime('%Y-%m').unique()\n",
    "    print(f\"All unique year-month combinations in the dataset: {unique_year_month}\")\n",
    "    "
   ]
  }
 ],
 "metadata": {
  "kernelspec": {
   "display_name": "Python 3",
   "language": "python",
   "name": "python3"
  },
  "language_info": {
   "name": "python",
   "version": "3.11.1"
  }
 },
 "nbformat": 4,
 "nbformat_minor": 2
}
