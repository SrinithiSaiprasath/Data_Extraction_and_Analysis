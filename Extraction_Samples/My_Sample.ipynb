{
 "cells": [
  {
   "cell_type": "code",
   "execution_count": null,
   "metadata": {},
   "outputs": [],
   "source": [
    "import xarray as xr\n",
    "import matplotlib.pyplot as plt\n",
    "import mplcursors\n",
    "from datetime import datetime\n",
    "\n",
    "# Step 1: Open the NetCDF file\n",
    "dataset = xr.open_dataset(\"C:/Users/customer/Downloads/adaptor.mars.internal-1686634317.6059375-22265-12-cadc50c5-a662-48f1-b391-6e241067044a.nc\"\n",
    ")\n",
    "\n",
    "# Step 2: Extract necessary variables\n",
    "latitude = dataset['latitude'].values\n",
    "longitude = dataset['longitude'].values\n",
    "temperature_data = dataset['t'].isel(time=0, level=0).values  # Assuming level=0 for simplicity\n",
    "time_info = dataset['time'].values\n",
    "\n",
    "# Convert time_info to a human-readable date\n",
    "date = datetime.utcfromtimestamp(time_info.astype(int)[0] * 1e-9).strftime('%Y-%m-%d')\n",
    "\n",
    "# Extract location information\n",
    "location = 'Chennai'  # Replace with the actual location\n",
    "\n",
    "# Step 3: Plotting with Matplotlib\n",
    "fig, ax = plt.subplots()\n",
    "contour = ax.contourf(longitude, latitude, temperature_data, cmap='viridis')\n",
    "plt.colorbar(contour, label='Temperature (K)')  # Replace 'units' with the actual units of your temperature data\n",
    "ax.set_title(f'Temperature Distribution\\nDate: {date}, Location: {location}')\n",
    "ax.set_xlabel('Longitude (E)')\n",
    "ax.set_ylabel('Latitude(N)')\n",
    "\n",
    "# Add hover information using mplcursors\n",
    "\n",
    "\n",
    "\n",
    "cursor = mplcursors.cursor(hover=True)\n",
    "@mplcursors.cursor(hover=True).connect(\"add\")\n",
    "def on_add(sel):\n",
    "    lat_index = sel.target[1]\n",
    "    lon_index = sel.target[0]\n",
    "    temperature = temperature_data[lat_index, lon_index]\n",
    "    pressure = dataset['pressure'].isel(time=0, level=0).values  # Replace 'pressure' with the actual variable name\n",
    "    label = f'Time: {date}, Pressure: {pressure}, Temperature: {temperature}'\n",
    "    sel.annotation.set_text(label)\n",
    "\n",
    "plt.show()\n"
   ]
  }
 ],
 "metadata": {
  "language_info": {
   "name": "python"
  }
 },
 "nbformat": 4,
 "nbformat_minor": 2
}
